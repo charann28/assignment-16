{
 "cells": [
  {
   "cell_type": "markdown",
   "id": "bf8569bd",
   "metadata": {},
   "source": [
    "1. Create a list called years_list, starting with the year of your birth, and each year thereafter until\n",
    "the year of your fifth birthday. For example, if you were born in 1980. the list would be years_list =\n",
    "[1980, 1981, 1982, 1983, 1984, 1985]."
   ]
  },
  {
   "cell_type": "code",
   "execution_count": 3,
   "id": "fc0c51b7",
   "metadata": {},
   "outputs": [
    {
     "data": {
      "text/plain": [
       "[2001, 2002, 2003, 2004, 2005, 2006]"
      ]
     },
     "execution_count": 3,
     "metadata": {},
     "output_type": "execute_result"
    }
   ],
   "source": [
    "#ANSWER:\n",
    "\n",
    "years_list = [i for i in range(2001,2001+6)]\n",
    "years_list"
   ]
  },
  {
   "cell_type": "markdown",
   "id": "c95046a8",
   "metadata": {},
   "source": [
    "Q. In which year in years_list was your third birthday? Remember, you were 0 years of age for your"
   ]
  },
  {
   "cell_type": "code",
   "execution_count": 4,
   "id": "d467c291",
   "metadata": {},
   "outputs": [
    {
     "data": {
      "text/plain": [
       "2004"
      ]
     },
     "execution_count": 4,
     "metadata": {},
     "output_type": "execute_result"
    }
   ],
   "source": [
    "#ANSWER:\n",
    "\n",
    "years_list[3]"
   ]
  },
  {
   "cell_type": "markdown",
   "id": "0e83ca41",
   "metadata": {},
   "source": [
    "Q.In the years list, which year were you the oldest?"
   ]
  },
  {
   "cell_type": "code",
   "execution_count": 5,
   "id": "4f210ff5",
   "metadata": {},
   "outputs": [
    {
     "data": {
      "text/plain": [
       "2006"
      ]
     },
     "execution_count": 5,
     "metadata": {},
     "output_type": "execute_result"
    }
   ],
   "source": [
    "#ANSWER:\n",
    "\n",
    "max(years_list)"
   ]
  },
  {
   "cell_type": "markdown",
   "id": "8200e083",
   "metadata": {},
   "source": [
    "Q. Make a list called things with these three strings as elements: 'mozzarella', 'cinderella','salmonella'."
   ]
  },
  {
   "cell_type": "code",
   "execution_count": 6,
   "id": "37d8f340",
   "metadata": {},
   "outputs": [
    {
     "data": {
      "text/plain": [
       "['mozzarella', 'cinderella', 'salmonella']"
      ]
     },
     "execution_count": 6,
     "metadata": {},
     "output_type": "execute_result"
    }
   ],
   "source": [
    "#ANSWER:\n",
    "\n",
    "things = list(['mozzarella', 'cinderella','salmonella'])\n",
    "things"
   ]
  },
  {
   "cell_type": "markdown",
   "id": "0c64566a",
   "metadata": {},
   "source": [
    "Q. Capitalize the element in things that refers to a person and then print the list. Did it change the element in the list?"
   ]
  },
  {
   "cell_type": "code",
   "execution_count": 9,
   "id": "c43ba564",
   "metadata": {},
   "outputs": [
    {
     "name": "stdout",
     "output_type": "stream",
     "text": [
      "Mozzarella\n",
      "Cinderella\n",
      "Salmonella\n"
     ]
    },
    {
     "data": {
      "text/plain": [
       "['mozzarella', 'cinderella', 'salmonella']"
      ]
     },
     "execution_count": 9,
     "metadata": {},
     "output_type": "execute_result"
    }
   ],
   "source": [
    "for i in things:\n",
    "    print(i.capitalize())\n",
    "things\n",
    "#Capitalize() will not update the list original values."
   ]
  },
  {
   "cell_type": "markdown",
   "id": "f1d68190",
   "metadata": {},
   "source": [
    "Q. Make a surprise list with the elements \"Groucho\", \"Chico\", and \"Harpo\""
   ]
  },
  {
   "cell_type": "code",
   "execution_count": 10,
   "id": "0ae4b3b6",
   "metadata": {},
   "outputs": [
    {
     "data": {
      "text/plain": [
       "['Groucho', 'Chico', 'Harpo']"
      ]
     },
     "execution_count": 10,
     "metadata": {},
     "output_type": "execute_result"
    }
   ],
   "source": [
    "surprise_list = [\"Groucho\", \"Chico\", \"Harpo\"]\n",
    "surprise_list"
   ]
  },
  {
   "cell_type": "markdown",
   "id": "bec5c725",
   "metadata": {},
   "source": [
    "Q. Lowercase the last element of the surprise list, reverse it, and then capitalize it."
   ]
  },
  {
   "cell_type": "code",
   "execution_count": 12,
   "id": "983c45ed",
   "metadata": {},
   "outputs": [
    {
     "name": "stdout",
     "output_type": "stream",
     "text": [
      "harpo\n",
      "opraH\n",
      "OPRAH\n"
     ]
    }
   ],
   "source": [
    "a=surprise_list[-1].lower()\n",
    "b=surprise_list[-1][::-1]\n",
    "c=surprise_list[-1][::-1].upper()\n",
    "print(a)\n",
    "print(b)\n",
    "print(c)"
   ]
  },
  {
   "cell_type": "markdown",
   "id": "ce8f4cd4",
   "metadata": {},
   "source": [
    "Q. Make an English-to-French dictionary called e2f and print it. Here are your starter words: dog is chien, cat is chat, and walrus is morse."
   ]
  },
  {
   "cell_type": "code",
   "execution_count": 25,
   "id": "858c5bb8",
   "metadata": {},
   "outputs": [],
   "source": [
    "e2f = {'dog':'chien','cat':'chat','walrus':'morse'}"
   ]
  },
  {
   "cell_type": "markdown",
   "id": "316dc8ac",
   "metadata": {},
   "source": [
    "Q. Write the French word for walrus in your three-word dictionary e2f"
   ]
  },
  {
   "cell_type": "code",
   "execution_count": 26,
   "id": "7cec295d",
   "metadata": {},
   "outputs": [
    {
     "data": {
      "text/plain": [
       "'morse'"
      ]
     },
     "execution_count": 26,
     "metadata": {},
     "output_type": "execute_result"
    }
   ],
   "source": [
    "e2f['walrus']"
   ]
  },
  {
   "cell_type": "code",
   "execution_count": null,
   "id": "4c59719b",
   "metadata": {},
   "outputs": [],
   "source": [
    "Q. Make a French-to-English dictionary called f2e from e2f. Use the items method"
   ]
  },
  {
   "cell_type": "code",
   "execution_count": 27,
   "id": "1bdaac22",
   "metadata": {},
   "outputs": [
    {
     "data": {
      "text/plain": [
       "{'chien': 'dog', 'chat': 'cat', 'morse': 'walrus'}"
      ]
     },
     "execution_count": 27,
     "metadata": {},
     "output_type": "execute_result"
    }
   ],
   "source": [
    "f2e = dict((key,value) for value,key in e2f.items())\n",
    "f2e"
   ]
  },
  {
   "cell_type": "markdown",
   "id": "9ffd3460",
   "metadata": {},
   "source": [
    "Q. Print the English version of the French word chien using f2e."
   ]
  },
  {
   "cell_type": "code",
   "execution_count": 28,
   "id": "b6422eb7",
   "metadata": {},
   "outputs": [
    {
     "data": {
      "text/plain": [
       "'dog'"
      ]
     },
     "execution_count": 28,
     "metadata": {},
     "output_type": "execute_result"
    }
   ],
   "source": [
    "f2e['chien']"
   ]
  },
  {
   "cell_type": "markdown",
   "id": "24a31536",
   "metadata": {},
   "source": [
    "Q. Make and print a set of English words from the keys in e2f."
   ]
  },
  {
   "cell_type": "code",
   "execution_count": 29,
   "id": "a9428c52",
   "metadata": {},
   "outputs": [
    {
     "data": {
      "text/plain": [
       "dict_keys(['chien', 'chat', 'morse'])"
      ]
     },
     "execution_count": 29,
     "metadata": {},
     "output_type": "execute_result"
    }
   ],
   "source": [
    "f2e.keys()"
   ]
  },
  {
   "cell_type": "markdown",
   "id": "77af9b64",
   "metadata": {},
   "source": [
    "Q. Make a multilevel dictionary called life. Use these strings for the topmost keys: 'animals', 'plants', and 'other'. Make the 'animals' key refer to another dictionary with the keys 'cats', 'octopi', and 'emus'. Make the 'cats' key refer to a list of strings with the values 'Henri', 'Grumpy', and 'Lucy'. Make all the other keys refer to empty dictionaries."
   ]
  },
  {
   "cell_type": "code",
   "execution_count": 30,
   "id": "cedd21dc",
   "metadata": {},
   "outputs": [
    {
     "data": {
      "text/plain": [
       "{'animals': {'cat': ['Henri', 'Grumpy', 'Lucy'], 'octopi': '', 'emus': ''},\n",
       " 'plants': '',\n",
       " 'other': ''}"
      ]
     },
     "execution_count": 30,
     "metadata": {},
     "output_type": "execute_result"
    }
   ],
   "source": [
    "life ={'animals':{'cat':['Henri', 'Grumpy', 'Lucy'], 'octopi':'', 'emus':''},\n",
    "       'plants' :'',\n",
    "       'other' :'' }\n",
    "life\n"
   ]
  },
  {
   "cell_type": "markdown",
   "id": "ad26b6b4",
   "metadata": {},
   "source": [
    "Q. Print the top-level keys of life."
   ]
  },
  {
   "cell_type": "code",
   "execution_count": 31,
   "id": "f7da2723",
   "metadata": {},
   "outputs": [
    {
     "data": {
      "text/plain": [
       "dict_keys(['animals', 'plants', 'other'])"
      ]
     },
     "execution_count": 31,
     "metadata": {},
     "output_type": "execute_result"
    }
   ],
   "source": [
    "life.keys()"
   ]
  },
  {
   "cell_type": "markdown",
   "id": "2fcfb3c2",
   "metadata": {},
   "source": [
    "Q. Print the keys for life['animals']."
   ]
  },
  {
   "cell_type": "code",
   "execution_count": 32,
   "id": "164041b9",
   "metadata": {},
   "outputs": [
    {
     "data": {
      "text/plain": [
       "dict_keys(['cat', 'octopi', 'emus'])"
      ]
     },
     "execution_count": 32,
     "metadata": {},
     "output_type": "execute_result"
    }
   ],
   "source": [
    "life['animals'].keys()"
   ]
  },
  {
   "cell_type": "markdown",
   "id": "c01bcadd",
   "metadata": {},
   "source": [
    "Q. Print the values for life['animals']['cat']"
   ]
  },
  {
   "cell_type": "code",
   "execution_count": 33,
   "id": "9ad4ca39",
   "metadata": {},
   "outputs": [
    {
     "data": {
      "text/plain": [
       "['Henri', 'Grumpy', 'Lucy']"
      ]
     },
     "execution_count": 33,
     "metadata": {},
     "output_type": "execute_result"
    }
   ],
   "source": [
    "life['animals']['cat']"
   ]
  }
 ],
 "metadata": {
  "kernelspec": {
   "display_name": "Python 3 (ipykernel)",
   "language": "python",
   "name": "python3"
  },
  "language_info": {
   "codemirror_mode": {
    "name": "ipython",
    "version": 3
   },
   "file_extension": ".py",
   "mimetype": "text/x-python",
   "name": "python",
   "nbconvert_exporter": "python",
   "pygments_lexer": "ipython3",
   "version": "3.9.13"
  }
 },
 "nbformat": 4,
 "nbformat_minor": 5
}
